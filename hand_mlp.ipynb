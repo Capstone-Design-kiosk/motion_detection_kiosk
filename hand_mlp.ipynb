{
 "cells": [
  {
   "cell_type": "code",
   "execution_count": 6,
   "metadata": {},
   "outputs": [],
   "source": [
    "import numpy as np\n",
    "from tensorflow.keras.layers import Dense, Activation, Input,Dropout\n",
    "from tensorflow.keras.models import Model"
   ]
  },
  {
   "cell_type": "code",
   "execution_count": 15,
   "metadata": {},
   "outputs": [
    {
     "name": "stdout",
     "output_type": "stream",
     "text": [
      "(5896, 15) (5896,)\n"
     ]
    }
   ],
   "source": [
    "data = np.loadtxt('handtrain3.csv', delimiter=',')\n",
    "angle = data[:,:-1].astype(np.float32)\n",
    "label = data[:, -1].astype(np.float32)\n",
    "print(angle.shape, label.shape)"
   ]
  },
  {
   "cell_type": "code",
   "execution_count": 8,
   "metadata": {},
   "outputs": [
    {
     "name": "stdout",
     "output_type": "stream",
     "text": [
      "(5896, 7)\n"
     ]
    }
   ],
   "source": [
    "from sklearn.preprocessing import OneHotEncoder\n",
    "\n",
    "ohe = OneHotEncoder()\n",
    "\n",
    "encoded_label = ohe.fit_transform(label.reshape(-1, 1)).toarray()\n",
    "encoded_label = encoded_label.astype(np.float32)\n",
    "\n",
    "print(encoded_label.shape)"
   ]
  },
  {
   "cell_type": "code",
   "execution_count": 9,
   "metadata": {},
   "outputs": [
    {
     "data": {
      "text/plain": [
       "[array([ 0.,  1.,  2.,  3.,  4.,  5., 10.], dtype=float32)]"
      ]
     },
     "execution_count": 9,
     "metadata": {},
     "output_type": "execute_result"
    }
   ],
   "source": [
    "ohe.categories_"
   ]
  },
  {
   "cell_type": "code",
   "execution_count": 11,
   "metadata": {},
   "outputs": [
    {
     "name": "stdout",
     "output_type": "stream",
     "text": [
      "Model: \"model\"\n",
      "_________________________________________________________________\n",
      "Layer (type)                 Output Shape              Param #   \n",
      "=================================================================\n",
      "input_3 (InputLayer)         [(None, 15)]              0         \n",
      "_________________________________________________________________\n",
      "dense_3 (Dense)              (None, 32)                512       \n",
      "_________________________________________________________________\n",
      "dense_4 (Dense)              (None, 64)                2112      \n",
      "_________________________________________________________________\n",
      "dense_5 (Dense)              (None, 128)               8320      \n",
      "_________________________________________________________________\n",
      "dense_6 (Dense)              (None, 64)                8256      \n",
      "_________________________________________________________________\n",
      "dense_7 (Dense)              (None, 32)                2080      \n",
      "_________________________________________________________________\n",
      "dense_8 (Dense)              (None, 7)                 231       \n",
      "=================================================================\n",
      "Total params: 21,511\n",
      "Trainable params: 21,511\n",
      "Non-trainable params: 0\n",
      "_________________________________________________________________\n"
     ]
    }
   ],
   "source": [
    "input = Input(shape=(15,))\n",
    "\n",
    "x = Dense(32, activation='relu')(input)\n",
    "Dropout(x,0.5)\n",
    "x = Dense(64, activation='relu')(x)\n",
    "Dropout(x,0.5)\n",
    "x = Dense(128, activation='relu')(x)\n",
    "Dropout(x,0.5)\n",
    "x = Dense(64, activation='relu')(x)\n",
    "Dropout(x,0.5)\n",
    "x = Dense(32, activation='relu')(x)\n",
    "Dropout(x,0.5)\n",
    "\n",
    "output = Dense(7, activation='softmax')(x)\n",
    "\n",
    "model = Model(inputs=input, outputs=output)\n",
    "model.compile(optimizer='adam', loss='categorical_crossentropy', metrics=['acc'])\n",
    "model.summary()"
   ]
  },
  {
   "cell_type": "code",
   "execution_count": 13,
   "metadata": {},
   "outputs": [
    {
     "name": "stdout",
     "output_type": "stream",
     "text": [
      "Epoch 1/100\n",
      "185/185 [==============================] - 0s 1ms/step - loss: 0.0458 - acc: 0.9864\n",
      "Epoch 2/100\n",
      "185/185 [==============================] - 0s 1ms/step - loss: 0.0368 - acc: 0.9895\n",
      "Epoch 3/100\n",
      "185/185 [==============================] - 0s 1ms/step - loss: 0.0167 - acc: 0.9961\n",
      "Epoch 4/100\n",
      "185/185 [==============================] - 0s 1ms/step - loss: 0.0259 - acc: 0.9932\n",
      "Epoch 5/100\n",
      "185/185 [==============================] - 0s 1ms/step - loss: 0.0443 - acc: 0.9854\n",
      "Epoch 6/100\n",
      "185/185 [==============================] - 0s 1ms/step - loss: 0.0273 - acc: 0.9917\n",
      "Epoch 7/100\n",
      "185/185 [==============================] - 0s 1ms/step - loss: 0.1100 - acc: 0.9693\n",
      "Epoch 8/100\n",
      "185/185 [==============================] - 0s 1ms/step - loss: 0.0911 - acc: 0.9712\n",
      "Epoch 9/100\n",
      "185/185 [==============================] - 0s 1ms/step - loss: 0.0434 - acc: 0.9868\n",
      "Epoch 10/100\n",
      "185/185 [==============================] - 0s 1ms/step - loss: 0.0349 - acc: 0.9898\n",
      "Epoch 11/100\n",
      "185/185 [==============================] - 0s 1ms/step - loss: 0.0567 - acc: 0.9800\n",
      "Epoch 12/100\n",
      "185/185 [==============================] - 0s 1ms/step - loss: 0.0798 - acc: 0.9752\n",
      "Epoch 13/100\n",
      "185/185 [==============================] - 0s 1ms/step - loss: 0.0532 - acc: 0.9873\n",
      "Epoch 14/100\n",
      "185/185 [==============================] - 0s 1ms/step - loss: 0.0665 - acc: 0.9800\n",
      "Epoch 15/100\n",
      "185/185 [==============================] - 0s 2ms/step - loss: 0.0398 - acc: 0.9866\n",
      "Epoch 16/100\n",
      "185/185 [==============================] - 0s 2ms/step - loss: 0.0170 - acc: 0.9959\n",
      "Epoch 17/100\n",
      "185/185 [==============================] - 0s 1ms/step - loss: 0.0134 - acc: 0.9966\n",
      "Epoch 18/100\n",
      "185/185 [==============================] - 0s 2ms/step - loss: 0.0113 - acc: 0.9971\n",
      "Epoch 19/100\n",
      "185/185 [==============================] - 0s 2ms/step - loss: 0.0612 - acc: 0.9822\n",
      "Epoch 20/100\n",
      "185/185 [==============================] - 0s 2ms/step - loss: 0.1075 - acc: 0.9707\n",
      "Epoch 21/100\n",
      "185/185 [==============================] - 0s 2ms/step - loss: 0.1028 - acc: 0.9696\n",
      "Epoch 22/100\n",
      "185/185 [==============================] - 0s 2ms/step - loss: 0.0207 - acc: 0.9942\n",
      "Epoch 23/100\n",
      "185/185 [==============================] - 1s 3ms/step - loss: 0.0139 - acc: 0.9966\n",
      "Epoch 24/100\n",
      "185/185 [==============================] - 1s 3ms/step - loss: 0.0107 - acc: 0.9971\n",
      "Epoch 25/100\n",
      "185/185 [==============================] - 0s 2ms/step - loss: 0.0085 - acc: 0.9980\n",
      "Epoch 26/100\n",
      "185/185 [==============================] - 0s 1ms/step - loss: 0.0106 - acc: 0.9966\n",
      "Epoch 27/100\n",
      "185/185 [==============================] - 0s 1ms/step - loss: 0.0496 - acc: 0.9852\n",
      "Epoch 28/100\n",
      "185/185 [==============================] - 0s 2ms/step - loss: 0.1315 - acc: 0.9608\n",
      "Epoch 29/100\n",
      "185/185 [==============================] - 0s 2ms/step - loss: 0.1006 - acc: 0.9691\n",
      "Epoch 30/100\n",
      "185/185 [==============================] - 0s 2ms/step - loss: 0.0561 - acc: 0.9781\n",
      "Epoch 31/100\n",
      "185/185 [==============================] - 0s 1ms/step - loss: 0.0246 - acc: 0.9930\n",
      "Epoch 32/100\n",
      "185/185 [==============================] - 0s 2ms/step - loss: 0.0189 - acc: 0.9947\n",
      "Epoch 33/100\n",
      "185/185 [==============================] - 0s 1ms/step - loss: 0.0083 - acc: 0.9985\n",
      "Epoch 34/100\n",
      "185/185 [==============================] - 0s 1ms/step - loss: 0.0042 - acc: 0.9997\n",
      "Epoch 35/100\n",
      "185/185 [==============================] - 0s 2ms/step - loss: 0.0056 - acc: 0.9985\n",
      "Epoch 36/100\n",
      "185/185 [==============================] - 0s 2ms/step - loss: 0.0072 - acc: 0.9978\n",
      "Epoch 37/100\n",
      "185/185 [==============================] - 0s 1ms/step - loss: 0.0089 - acc: 0.9969\n",
      "Epoch 38/100\n",
      "185/185 [==============================] - 0s 1ms/step - loss: 0.1544 - acc: 0.9627\n",
      "Epoch 39/100\n",
      "185/185 [==============================] - 0s 1ms/step - loss: 0.1697 - acc: 0.9515\n",
      "Epoch 40/100\n",
      "185/185 [==============================] - 0s 2ms/step - loss: 0.0713 - acc: 0.9795\n",
      "Epoch 41/100\n",
      "185/185 [==============================] - 0s 2ms/step - loss: 0.0391 - acc: 0.9893\n",
      "Epoch 42/100\n",
      "185/185 [==============================] - 0s 2ms/step - loss: 0.0307 - acc: 0.9922\n",
      "Epoch 43/100\n",
      "185/185 [==============================] - 1s 3ms/step - loss: 0.0171 - acc: 0.9953\n",
      "Epoch 44/100\n",
      "185/185 [==============================] - 0s 3ms/step - loss: 0.0201 - acc: 0.9954\n",
      "Epoch 45/100\n",
      "185/185 [==============================] - 0s 2ms/step - loss: 0.0129 - acc: 0.9968\n",
      "Epoch 46/100\n",
      "185/185 [==============================] - 0s 2ms/step - loss: 0.0423 - acc: 0.9859\n",
      "Epoch 47/100\n",
      "185/185 [==============================] - 0s 2ms/step - loss: 0.0754 - acc: 0.9788\n",
      "Epoch 48/100\n",
      "185/185 [==============================] - 0s 2ms/step - loss: 0.0978 - acc: 0.9705\n",
      "Epoch 49/100\n",
      "185/185 [==============================] - 0s 2ms/step - loss: 0.0329 - acc: 0.9898\n",
      "Epoch 50/100\n",
      "185/185 [==============================] - 0s 2ms/step - loss: 0.0278 - acc: 0.9910\n",
      "Epoch 51/100\n",
      "185/185 [==============================] - 0s 2ms/step - loss: 0.0274 - acc: 0.9922\n",
      "Epoch 52/100\n",
      "185/185 [==============================] - 0s 2ms/step - loss: 0.0460 - acc: 0.9883\n",
      "Epoch 53/100\n",
      "185/185 [==============================] - 0s 1ms/step - loss: 0.0565 - acc: 0.9827\n",
      "Epoch 54/100\n",
      "185/185 [==============================] - 0s 2ms/step - loss: 0.0631 - acc: 0.9812\n",
      "Epoch 55/100\n",
      "185/185 [==============================] - 0s 1ms/step - loss: 0.0579 - acc: 0.9866\n",
      "Epoch 56/100\n",
      "185/185 [==============================] - 0s 2ms/step - loss: 0.0299 - acc: 0.9914\n",
      "Epoch 57/100\n",
      "185/185 [==============================] - 0s 2ms/step - loss: 0.0177 - acc: 0.9947\n",
      "Epoch 58/100\n",
      "185/185 [==============================] - 0s 2ms/step - loss: 0.0056 - acc: 0.9990\n",
      "Epoch 59/100\n",
      "185/185 [==============================] - 0s 1ms/step - loss: 0.0032 - acc: 0.9997\n",
      "Epoch 60/100\n",
      "185/185 [==============================] - 0s 1ms/step - loss: 0.0023 - acc: 0.9997\n",
      "Epoch 61/100\n",
      "185/185 [==============================] - 0s 2ms/step - loss: 0.0019 - acc: 1.0000\n",
      "Epoch 62/100\n",
      "185/185 [==============================] - 0s 1ms/step - loss: 0.0015 - acc: 1.0000\n",
      "Epoch 63/100\n",
      "185/185 [==============================] - 0s 1ms/step - loss: 0.0012 - acc: 1.0000\n",
      "Epoch 64/100\n",
      "185/185 [==============================] - 0s 1ms/step - loss: 0.0010 - acc: 1.0000\n",
      "Epoch 65/100\n",
      "185/185 [==============================] - 0s 2ms/step - loss: 8.9536e-04 - acc: 1.0000\n",
      "Epoch 66/100\n",
      "185/185 [==============================] - 0s 2ms/step - loss: 7.7704e-04 - acc: 1.0000\n",
      "Epoch 67/100\n",
      "185/185 [==============================] - 0s 2ms/step - loss: 6.3423e-04 - acc: 1.0000\n",
      "Epoch 68/100\n",
      "185/185 [==============================] - 0s 1ms/step - loss: 5.7542e-04 - acc: 1.0000\n",
      "Epoch 69/100\n",
      "185/185 [==============================] - 0s 2ms/step - loss: 5.1641e-04 - acc: 1.0000\n",
      "Epoch 70/100\n",
      "185/185 [==============================] - 0s 1ms/step - loss: 4.8951e-04 - acc: 1.0000\n",
      "Epoch 71/100\n",
      "185/185 [==============================] - 0s 1ms/step - loss: 4.3617e-04 - acc: 1.0000\n",
      "Epoch 72/100\n",
      "185/185 [==============================] - 0s 1ms/step - loss: 3.5665e-04 - acc: 1.0000\n",
      "Epoch 73/100\n",
      "185/185 [==============================] - 0s 1ms/step - loss: 3.3040e-04 - acc: 1.0000\n",
      "Epoch 74/100\n",
      "185/185 [==============================] - 0s 1ms/step - loss: 0.1889 - acc: 0.9729\n",
      "Epoch 75/100\n",
      "185/185 [==============================] - 0s 2ms/step - loss: 0.4327 - acc: 0.8842\n",
      "Epoch 76/100\n",
      "185/185 [==============================] - 0s 2ms/step - loss: 0.1755 - acc: 0.9417\n",
      "Epoch 77/100\n",
      "185/185 [==============================] - 0s 3ms/step - loss: 0.0941 - acc: 0.9683\n",
      "Epoch 78/100\n",
      "185/185 [==============================] - 1s 3ms/step - loss: 0.0681 - acc: 0.9764\n",
      "Epoch 79/100\n",
      "185/185 [==============================] - 0s 2ms/step - loss: 0.0398 - acc: 0.9888\n",
      "Epoch 80/100\n",
      "185/185 [==============================] - 1s 4ms/step - loss: 0.0281 - acc: 0.9932\n",
      "Epoch 81/100\n",
      "185/185 [==============================] - 0s 2ms/step - loss: 0.0223 - acc: 0.9936\n",
      "Epoch 82/100\n",
      "185/185 [==============================] - 0s 2ms/step - loss: 0.0428 - acc: 0.9881\n",
      "Epoch 83/100\n",
      "185/185 [==============================] - 0s 2ms/step - loss: 0.0142 - acc: 0.9969\n",
      "Epoch 84/100\n",
      "185/185 [==============================] - 0s 2ms/step - loss: 0.0060 - acc: 0.9992\n",
      "Epoch 85/100\n",
      "185/185 [==============================] - 0s 2ms/step - loss: 0.0148 - acc: 0.9971\n",
      "Epoch 86/100\n",
      "185/185 [==============================] - ETA: 0s - loss: 0.1674 - acc: 0.956 - 0s 2ms/step - loss: 0.1752 - acc: 0.9517\n",
      "Epoch 87/100\n",
      "185/185 [==============================] - 0s 2ms/step - loss: 0.1041 - acc: 0.9690\n",
      "Epoch 88/100\n",
      "185/185 [==============================] - 0s 1ms/step - loss: 0.0216 - acc: 0.9930\n",
      "Epoch 89/100\n",
      "185/185 [==============================] - 0s 1ms/step - loss: 0.0266 - acc: 0.9927\n",
      "Epoch 90/100\n",
      "185/185 [==============================] - 0s 2ms/step - loss: 0.0139 - acc: 0.9959\n",
      "Epoch 91/100\n",
      "185/185 [==============================] - 0s 2ms/step - loss: 0.0185 - acc: 0.9942\n",
      "Epoch 92/100\n",
      "185/185 [==============================] - 0s 1ms/step - loss: 0.0274 - acc: 0.9912\n",
      "Epoch 93/100\n",
      "185/185 [==============================] - 0s 1ms/step - loss: 0.0196 - acc: 0.9930\n",
      "Epoch 94/100\n",
      "185/185 [==============================] - 0s 1ms/step - loss: 0.0487 - acc: 0.9847\n",
      "Epoch 95/100\n",
      "185/185 [==============================] - 0s 2ms/step - loss: 0.0206 - acc: 0.9939\n",
      "Epoch 96/100\n",
      "185/185 [==============================] - 0s 2ms/step - loss: 0.0103 - acc: 0.9973\n",
      "Epoch 97/100\n",
      "185/185 [==============================] - 0s 2ms/step - loss: 0.0150 - acc: 0.9971\n",
      "Epoch 98/100\n",
      "185/185 [==============================] - 0s 2ms/step - loss: 0.0724 - acc: 0.9810\n",
      "Epoch 99/100\n",
      "185/185 [==============================] - 0s 2ms/step - loss: 0.1356 - acc: 0.9637\n",
      "Epoch 100/100\n",
      "185/185 [==============================] - 0s 2ms/step - loss: 0.0951 - acc: 0.9720\n"
     ]
    },
    {
     "data": {
      "text/plain": [
       "<keras.callbacks.History at 0x24a90c5b3a0>"
      ]
     },
     "execution_count": 13,
     "metadata": {},
     "output_type": "execute_result"
    }
   ],
   "source": [
    "model.fit(angle, encoded_label, epochs=100)\n"
   ]
  },
  {
   "cell_type": "code",
   "execution_count": 16,
   "metadata": {},
   "outputs": [],
   "source": [
    "model.save('./Desktop/hand.h5')"
   ]
  },
  {
   "cell_type": "code",
   "execution_count": null,
   "metadata": {},
   "outputs": [],
   "source": []
  }
 ],
 "metadata": {
  "kernelspec": {
   "display_name": "Python 3",
   "language": "python",
   "name": "python3"
  },
  "language_info": {
   "codemirror_mode": {
    "name": "ipython",
    "version": 3
   },
   "file_extension": ".py",
   "mimetype": "text/x-python",
   "name": "python",
   "nbconvert_exporter": "python",
   "pygments_lexer": "ipython3",
   "version": "3.8.5"
  }
 },
 "nbformat": 4,
 "nbformat_minor": 4
}
