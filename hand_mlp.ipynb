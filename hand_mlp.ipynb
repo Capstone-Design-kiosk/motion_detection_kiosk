{
 "cells": [
  {
   "cell_type": "code",
   "execution_count": 6,
   "metadata": {},
   "outputs": [],
   "source": [
    "import numpy as np\n",
    "from tensorflow.keras.layers import Dense, Activation, Input,Dropout\n",
    "from tensorflow.keras.models import Model"
   ]
  },
  {
   "cell_type": "code",
   "execution_count": 15,
   "metadata": {},
   "outputs": [
    {
     "name": "stdout",
     "output_type": "stream",
     "text": [
      "(5896, 15) (5896,)\n"
     ]
    }
   ],
   "source": [
    "data = np.loadtxt('handtrain3.csv', delimiter=',')\n",
    "angle = data[:,:-1].astype(np.float32)\n",
    "label = data[:, -1].astype(np.float32)\n",
    "print(angle.shape, label.shape)"
   ]
  },
  {
   "cell_type": "code",
   "execution_count": 8,
   "metadata": {},
   "outputs": [
    {
     "name": "stdout",
     "output_type": "stream",
     "text": [
      "(5896, 7)\n"
     ]
    }
   ],
   "source": [
    "from sklearn.preprocessing import OneHotEncoder\n",
    "\n",
    "ohe = OneHotEncoder()\n",
    "\n",
    "encoded_label = ohe.fit_transform(label.reshape(-1, 1)).toarray()\n",
    "encoded_label = encoded_label.astype(np.float32)\n",
    "\n",
    "print(encoded_label.shape)"
   ]
  },
  {
   "cell_type": "code",
   "execution_count": 9,
   "metadata": {},
   "outputs": [
    {
     "data": {
      "text/plain": [
       "[array([ 0.,  1.,  2.,  3.,  4.,  5., 10.], dtype=float32)]"
      ]
     },
     "execution_count": 9,
     "metadata": {},
     "output_type": "execute_result"
    }
   ],
   "source": [
    "ohe.categories_"
   ]
  },
  {
   "cell_type": "code",
   "execution_count": 11,
   "metadata": {},
   "outputs": [
    {
     "name": "stdout",
     "output_type": "stream",
     "text": [
      "Model: \"model\"\n",
      "_________________________________________________________________\n",
      "Layer (type)                 Output Shape              Param #   \n",
      "=================================================================\n",
      "input_3 (InputLayer)         [(None, 15)]              0         \n",
      "_________________________________________________________________\n",
      "dense_3 (Dense)              (None, 32)                512       \n",
      "_________________________________________________________________\n",
      "dense_4 (Dense)              (None, 64)                2112      \n",
      "_________________________________________________________________\n",
      "dense_5 (Dense)              (None, 128)               8320      \n",
      "_________________________________________________________________\n",
      "dense_6 (Dense)              (None, 64)                8256      \n",
      "_________________________________________________________________\n",
      "dense_7 (Dense)              (None, 32)                2080      \n",
      "_________________________________________________________________\n",
      "dense_8 (Dense)              (None, 7)                 231       \n",
      "=================================================================\n",
      "Total params: 21,511\n",
      "Trainable params: 21,511\n",
      "Non-trainable params: 0\n",
      "_________________________________________________________________\n"
     ]
    }
   ],
   "source": [
    "input = Input(shape=(15,))\n",
    "\n",
    "x = Dense(32, activation='relu')(input)\n",
    "Dropout(x,0.5)\n",
    "x = Dense(64, activation='relu')(x)\n",
    "Dropout(x,0.5)\n",
    "x = Dense(128, activation='relu')(x)\n",
    "Dropout(x,0.5)\n",
    "x = Dense(64, activation='relu')(x)\n",
    "Dropout(x,0.5)\n",
    "x = Dense(32, activation='relu')(x)\n",
    "Dropout(x,0.5)\n",
    "\n",
    "output = Dense(7, activation='softmax')(x)\n",
    "\n",
    "model = Model(inputs=input, outputs=output)\n",
    "model.compile(optimizer='adam', loss='categorical_crossentropy', metrics=['acc'])\n",
    "model.summary()"
   ]
  },
  {
   "cell_type": "code",
   "execution_count": 13,
   "metadata": {},
   "outputs": [
    {
     "name": "stdout",
     "output_type": "stream",
     "text": [
      "Epoch 1/100\n",
      "185/185 [==============================] - 0s 1ms/step - loss: 0.0458 - acc: 0.9864\n",
      "Epoch 2/100\n",
      "185/185 [==============================] - 0s 1ms/step - loss: 0.0368 - acc: 0.9895\n",
      "Epoch 3/100\n",
      "185/185 [==============================] - 0s 1ms/step - loss: 0.0167 - acc: 0.9961\n",
      "Epoch 4/100\n",
      "185/185 [==============================] - 0s 1ms/step - loss: 0.0259 - acc: 0.9932\n",
      "Epoch 5/100\n",
      "185/185 [==============================] - 0s 1ms/step - loss: 0.0443 - acc: 0.9854\n",
      "Epoch 6/100\n",
      "185/185 [==============================] - 0s 1ms/step - loss: 0.0273 - acc: 0.9917\n",
      "Epoch 7/100\n",
      "185/185 [==============================] - 0s 1ms/step - loss: 0.1100 - acc: 0.9693\n",
      "Epoch 8/100\n",
      "185/185 [==============================] - 0s 1ms/step - loss: 0.0911 - acc: 0.9712\n",
      "Epoch 9/100\n",
      "185/185 [==============================] - 0s 1ms/step - loss: 0.0434 - acc: 0.9868\n",
      "Epoch 10/100\n",
      "185/185 [==============================] - 0s 1ms/step - loss: 0.0349 - acc: 0.9898\n",
      "Epoch 11/100\n",
      "185/185 [==============================] - 0s 1ms/step - loss: 0.0567 - acc: 0.9800\n",
      "Epoch 12/100\n",
      "185/185 [==============================] - 0s 1ms/step - loss: 0.0798 - acc: 0.9752\n",
      "Epoch 13/100\n",
      "185/185 [==============================] - 0s 1ms/step - loss: 0.0532 - acc: 0.9873\n",
      "Epoch 14/100\n",
      "185/185 [==============================] - 0s 1ms/step - loss: 0.0665 - acc: 0.9800\n",
      "Epoch 15/100\n",
      "185/185 [==============================] - 0s 2ms/step - loss: 0.0398 - acc: 0.9866\n",
      "Epoch 16/100\n",
      "185/185 [==============================] - 0s 2ms/step - loss: 0.0170 - acc: 0.9959\n",
      "Epoch 17/100\n",
      "185/185 [==============================] - 0s 1ms/step - loss: 0.0134 - acc: 0.9966\n",
      "Epoch 18/100\n",
      "185/185 [==============================] - 0s 2ms/step - loss: 0.0113 - acc: 0.9971\n",
      "Epoch 19/100\n",
      "185/185 [==============================] - 0s 2ms/step - loss: 0.0612 - acc: 0.9822\n",
      "Epoch 20/100\n",
      "185/185 [==============================] - 0s 2ms/step - loss: 0.1075 - acc: 0.9707\n",
      "Epoch 21/100\n",
      "185/185 [==============================] - 0s 2ms/step - loss: 0.1028 - acc: 0.9696\n",
      "Epoch 22/100\n",
      "185/185 [==============================] - 0s 2ms/step - loss: 0.0207 - acc: 0.9942\n",
      "Epoch 23/100\n",
      "185/185 [==============================] - 1s 3ms/step - loss: 0.0139 - acc: 0.9966\n",
      "Epoch 24/100\n",
      "185/185 [==============================] - 1s 3ms/step - loss: 0.0107 - acc: 0.9971\n",
      "Epoch 25/100\n",
      "185/185 [==============================] - 0s 2ms/step - loss: 0.0085 - acc: 0.9980\n",
      "Epoch 26/100\n",
      "185/185 [==============================] - 0s 1ms/step - loss: 0.0106 - acc: 0.9966\n",
      "Epoch 27/100\n",
      "185/185 [==============================] - 0s 1ms/step - loss: 0.0496 - acc: 0.9852\n",
      "Epoch 28/100\n",
      "185/185 [==============================] - 0s 2ms/step - loss: 0.1315 - acc: 0.9608\n",
      "Epoch 29/100\n",
      "185/185 [==============================] - 0s 2ms/step - loss: 0.1006 - acc: 0.9691\n",
      "Epoch 30/100\n",
      "185/185 [==============================] - 0s 2ms/step - loss: 0.0561 - acc: 0.9781\n",
      "Epoch 31/100\n",
      "185/185 [==============================] - 0s 1ms/step - loss: 0.0246 - acc: 0.9930\n",
      "Epoch 32/100\n",
      "185/185 [==============================] - 0s 2ms/step - loss: 0.0189 - acc: 0.9947\n",
      "Epoch 33/100\n",
      "185/185 [==============================] - 0s 1ms/step - loss: 0.0083 - acc: 0.9985\n",
      "Epoch 34/100\n",
      "185/185 [==============================] - 0s 1ms/step - loss: 0.0042 - acc: 0.9997\n",
      "Epoch 35/100\n",
      "185/185 [==============================] - 0s 2ms/step - loss: 0.0056 - acc: 0.9985\n",
      "Epoch 36/100\n",
      "185/185 [==============================] - 0s 2ms/step - loss: 0.0072 - acc: 0.9978\n",
      "Epoch 37/100\n",
      "185/185 [==============================] - 0s 1ms/step - loss: 0.0089 - acc: 0.9969\n",
      "Epoch 38/100\n",
      "185/185 [==============================] - 0s 1ms/step - loss: 0.1544 - acc: 0.9627\n",
      "Epoch 39/100\n",
      "185/185 [==============================] - 0s 1ms/step - loss: 0.1697 - acc: 0.9515\n",
      "Epoch 40/100\n",
      "185/185 [==============================] - 0s 2ms/step - loss: 0.0713 - acc: 0.9795\n",
      "Epoch 41/100\n",
      "185/185 [==============================] - 0s 2ms/step - loss: 0.0391 - acc: 0.9893\n",
      "Epoch 42/100\n",
      "185/185 [==============================] - 0s 2ms/step - loss: 0.0307 - acc: 0.9922\n",
      "Epoch 43/100\n",
      "185/185 [==============================] - 1s 3ms/step - loss: 0.0171 - acc: 0.9953\n",
      "Epoch 44/100\n",
      "185/185 [==============================] - 0s 3ms/step - loss: 0.0201 - acc: 0.9954\n",
      "Epoch 45/100\n",
      "185/185 [==============================] - 0s 2ms/step - loss: 0.0129 - acc: 0.9968\n",
      "Epoch 46/100\n",
      "185/185 [==============================] - 0s 2ms/step - loss: 0.0423 - acc: 0.9859\n",
      "Epoch 47/100\n",
      "185/185 [==============================] - 0s 2ms/step - loss: 0.0754 - acc: 0.9788\n",
      "Epoch 48/100\n",
      "185/185 [==============================] - 0s 2ms/step - loss: 0.0978 - acc: 0.9705\n",
      "Epoch 49/100\n",
      "185/185 [==============================] - 0s 2ms/step - loss: 0.0329 - acc: 0.9898\n",
      "Epoch 50/100\n",
      "185/185 [==============================] - 0s 2ms/step - loss: 0.0278 - acc: 0.9910\n",
      "Epoch 51/100\n",
      "185/185 [==============================] - 0s 2ms/step - loss: 0.0274 - acc: 0.9922\n",
      "Epoch 52/100\n",
      "185/185 [==============================] - 0s 2ms/step - loss: 0.0460 - acc: 0.9883\n",
      "Epoch 53/100\n",
      "185/185 [==============================] - 0s 1ms/step - loss: 0.0565 - acc: 0.9827\n",
      "Epoch 54/100\n",
      "185/185 [==============================] - 0s 2ms/step - loss: 0.0631 - acc: 0.9812\n",
      "Epoch 55/100\n",
      "185/185 [==============================] - 0s 1ms/step - loss: 0.0579 - acc: 0.9866\n",
      "Epoch 56/100\n",
      "185/185 [==============================] - 0s 2ms/step - loss: 0.0299 - acc: 0.9914\n",
      "Epoch 57/100\n",
      "185/185 [==============================] - 0s 2ms/step - loss: 0.0177 - acc: 0.9947\n",
      "Epoch 58/100\n",
      "185/185 [==============================] - 0s 2ms/step - loss: 0.0056 - acc: 0.9990\n",
      "Epoch 59/100\n",
      "185/185 [==============================] - 0s 1ms/step - loss: 0.0032 - acc: 0.9997\n",
      "Epoch 60/100\n",
      "185/185 [==============================] - 0s 1ms/step - loss: 0.0023 - acc: 0.9997\n",
      "Epoch 61/100\n",
      "185/185 [==============================] - 0s 2ms/step - loss: 0.0019 - acc: 1.0000\n",
      "Epoch 62/100\n",
      "185/185 [==============================] - 0s 1ms/step - loss: 0.0015 - acc: 1.0000\n",
      "Epoch 63/100\n",
      "185/185 [==============================] - 0s 1ms/step - loss: 0.0012 - acc: 1.0000\n",
      "Epoch 64/100\n",
      "185/185 [==============================] - 0s 1ms/step - loss: 0.0010 - acc: 1.0000\n",
      "Epoch 65/100\n",
      "185/185 [==============================] - 0s 2ms/step - loss: 8.9536e-04 - acc: 1.0000\n",
      "Epoch 66/100\n",
      "185/185 [==============================] - 0s 2ms/step - loss: 7.7704e-04 - acc: 1.0000\n",
      "Epoch 67/100\n",
      "185/185 [==============================] - 0s 2ms/step - loss: 6.3423e-04 - acc: 1.0000\n",
      "Epoch 68/100\n",
      "185/185 [==============================] - 0s 1ms/step - loss: 5.7542e-04 - acc: 1.0000\n",
      "Epoch 69/100\n",
      "185/185 [==============================] - 0s 2ms/step - loss: 5.1641e-04 - acc: 1.0000\n",
      "Epoch 70/100\n",
      "185/185 [==============================] - 0s 1ms/step - loss: 4.8951e-04 - acc: 1.0000\n",
      "Epoch 71/100\n",
      "185/185 [==============================] - 0s 1ms/step - loss: 4.3617e-04 - acc: 1.0000\n",
      "Epoch 72/100\n",
      "185/185 [==============================] - 0s 1ms/step - loss: 3.5665e-04 - acc: 1.0000\n",
      "Epoch 73/100\n",
      "185/185 [==============================] - 0s 1ms/step - loss: 3.3040e-04 - acc: 1.0000\n",
      "Epoch 74/100\n",
      "185/185 [==============================] - 0s 1ms/step - loss: 0.1889 - acc: 0.9729\n",
      "Epoch 75/100\n",
      "185/185 [==============================] - 0s 2ms/step - loss: 0.4327 - acc: 0.8842\n",
      "Epoch 76/100\n",
      "185/185 [==============================] - 0s 2ms/step - loss: 0.1755 - acc: 0.9417\n",
      "Epoch 77/100\n",
      "185/185 [==============================] - 0s 3ms/step - loss: 0.0941 - acc: 0.9683\n",
      "Epoch 78/100\n",
      "185/185 [==============================] - 1s 3ms/step - loss: 0.0681 - acc: 0.9764\n",
      "Epoch 79/100\n",
      "185/185 [==============================] - 0s 2ms/step - loss: 0.0398 - acc: 0.9888\n",
      "Epoch 80/100\n",
      "185/185 [==============================] - 1s 4ms/step - loss: 0.0281 - acc: 0.9932\n",
      "Epoch 81/100\n",
      "185/185 [==============================] - 0s 2ms/step - loss: 0.0223 - acc: 0.9936\n",
      "Epoch 82/100\n",
      "185/185 [==============================] - 0s 2ms/step - loss: 0.0428 - acc: 0.9881\n",
      "Epoch 83/100\n",
      "185/185 [==============================] - 0s 2ms/step - loss: 0.0142 - acc: 0.9969\n",
      "Epoch 84/100\n",
      "185/185 [==============================] - 0s 2ms/step - loss: 0.0060 - acc: 0.9992\n",
      "Epoch 85/100\n",
      "185/185 [==============================] - 0s 2ms/step - loss: 0.0148 - acc: 0.9971\n",
      "Epoch 86/100\n",
      "185/185 [==============================] - ETA: 0s - loss: 0.1674 - acc: 0.956 - 0s 2ms/step - loss: 0.1752 - acc: 0.9517\n",
      "Epoch 87/100\n",
      "185/185 [==============================] - 0s 2ms/step - loss: 0.1041 - acc: 0.9690\n",
      "Epoch 88/100\n",
      "185/185 [==============================] - 0s 1ms/step - loss: 0.0216 - acc: 0.9930\n",
      "Epoch 89/100\n",
      "185/185 [==============================] - 0s 1ms/step - loss: 0.0266 - acc: 0.9927\n",
      "Epoch 90/100\n",
      "185/185 [==============================] - 0s 2ms/step - loss: 0.0139 - acc: 0.9959\n",
      "Epoch 91/100\n",
      "185/185 [==============================] - 0s 2ms/step - loss: 0.0185 - acc: 0.9942\n",
      "Epoch 92/100\n",
      "185/185 [==============================] - 0s 1ms/step - loss: 0.0274 - acc: 0.9912\n",
      "Epoch 93/100\n",
      "185/185 [==============================] - 0s 1ms/step - loss: 0.0196 - acc: 0.9930\n",
      "Epoch 94/100\n",
      "185/185 [==============================] - 0s 1ms/step - loss: 0.0487 - acc: 0.9847\n",
      "Epoch 95/100\n",
      "185/185 [==============================] - 0s 2ms/step - loss: 0.0206 - acc: 0.9939\n",
      "Epoch 96/100\n",
      "185/185 [==============================] - 0s 2ms/step - loss: 0.0103 - acc: 0.9973\n",
      "Epoch 97/100\n",
      "185/185 [==============================] - 0s 2ms/step - loss: 0.0150 - acc: 0.9971\n",
      "Epoch 98/100\n",
      "185/185 [==============================] - 0s 2ms/step - loss: 0.0724 - acc: 0.9810\n",
      "Epoch 99/100\n",
      "185/185 [==============================] - 0s 2ms/step - loss: 0.1356 - acc: 0.9637\n",
      "Epoch 100/100\n",
      "185/185 [==============================] - 0s 2ms/step - loss: 0.0951 - acc: 0.9720\n"
     ]
    },
    {
     "data": {
      "text/plain": [
       "<keras.callbacks.History at 0x24a90c5b3a0>"
      ]
     },
     "execution_count": 13,
     "metadata": {},
     "output_type": "execute_result"
    }
   ],
   "source": [
    "model.fit(angle, encoded_label, epochs=100)\n"
   ]
  },
  {
   "cell_type": "code",
   "execution_count": 14,
   "metadata": {},
   "outputs": [
    {
     "ename": "ValueError",
     "evalue": "in user code:\n\n    C:\\Users\\lg\\anaconda3\\lib\\site-packages\\keras\\engine\\training.py:1330 test_function  *\n        return step_function(self, iterator)\n    C:\\Users\\lg\\anaconda3\\lib\\site-packages\\keras\\engine\\training.py:1320 step_function  **\n        outputs = model.distribute_strategy.run(run_step, args=(data,))\n    C:\\Users\\lg\\anaconda3\\lib\\site-packages\\tensorflow\\python\\distribute\\distribute_lib.py:1286 run\n        return self._extended.call_for_each_replica(fn, args=args, kwargs=kwargs)\n    C:\\Users\\lg\\anaconda3\\lib\\site-packages\\tensorflow\\python\\distribute\\distribute_lib.py:2849 call_for_each_replica\n        return self._call_for_each_replica(fn, args, kwargs)\n    C:\\Users\\lg\\anaconda3\\lib\\site-packages\\tensorflow\\python\\distribute\\distribute_lib.py:3632 _call_for_each_replica\n        return fn(*args, **kwargs)\n    C:\\Users\\lg\\anaconda3\\lib\\site-packages\\keras\\engine\\training.py:1313 run_step  **\n        outputs = model.test_step(data)\n    C:\\Users\\lg\\anaconda3\\lib\\site-packages\\keras\\engine\\training.py:1269 test_step\n        self.compiled_loss(\n    C:\\Users\\lg\\anaconda3\\lib\\site-packages\\keras\\engine\\compile_utils.py:201 __call__\n        loss_value = loss_obj(y_t, y_p, sample_weight=sw)\n    C:\\Users\\lg\\anaconda3\\lib\\site-packages\\keras\\losses.py:141 __call__\n        losses = call_fn(y_true, y_pred)\n    C:\\Users\\lg\\anaconda3\\lib\\site-packages\\keras\\losses.py:245 call  **\n        return ag_fn(y_true, y_pred, **self._fn_kwargs)\n    C:\\Users\\lg\\anaconda3\\lib\\site-packages\\tensorflow\\python\\util\\dispatch.py:206 wrapper\n        return target(*args, **kwargs)\n    C:\\Users\\lg\\anaconda3\\lib\\site-packages\\keras\\losses.py:1665 categorical_crossentropy\n        return backend.categorical_crossentropy(\n    C:\\Users\\lg\\anaconda3\\lib\\site-packages\\tensorflow\\python\\util\\dispatch.py:206 wrapper\n        return target(*args, **kwargs)\n    C:\\Users\\lg\\anaconda3\\lib\\site-packages\\keras\\backend.py:4839 categorical_crossentropy\n        target.shape.assert_is_compatible_with(output.shape)\n    C:\\Users\\lg\\anaconda3\\lib\\site-packages\\tensorflow\\python\\framework\\tensor_shape.py:1161 assert_is_compatible_with\n        raise ValueError(\"Shapes %s and %s are incompatible\" % (self, other))\n\n    ValueError: Shapes (None, 1) and (None, 7) are incompatible\n",
     "output_type": "error",
     "traceback": [
      "\u001b[1;31m---------------------------------------------------------------------------\u001b[0m",
      "\u001b[1;31mValueError\u001b[0m                                Traceback (most recent call last)",
      "\u001b[1;32m<ipython-input-14-56b3a41de7df>\u001b[0m in \u001b[0;36m<module>\u001b[1;34m\u001b[0m\n\u001b[1;32m----> 1\u001b[1;33m \u001b[0mresults\u001b[0m \u001b[1;33m=\u001b[0m \u001b[0mmodel\u001b[0m\u001b[1;33m.\u001b[0m\u001b[0mevaluate\u001b[0m\u001b[1;33m(\u001b[0m\u001b[0mangle\u001b[0m\u001b[1;33m,\u001b[0m \u001b[0mlabel\u001b[0m\u001b[1;33m,\u001b[0m \u001b[0mbatch_size\u001b[0m\u001b[1;33m=\u001b[0m\u001b[1;36m128\u001b[0m\u001b[1;33m)\u001b[0m\u001b[1;33m\u001b[0m\u001b[1;33m\u001b[0m\u001b[0m\n\u001b[0m\u001b[0;32m      2\u001b[0m \u001b[0mprint\u001b[0m\u001b[1;33m(\u001b[0m\u001b[1;34m'test loss, test acc:'\u001b[0m\u001b[1;33m,\u001b[0m \u001b[0mresults\u001b[0m\u001b[1;33m)\u001b[0m\u001b[1;33m\u001b[0m\u001b[1;33m\u001b[0m\u001b[0m\n",
      "\u001b[1;32m~\\anaconda3\\lib\\site-packages\\keras\\engine\\training.py\u001b[0m in \u001b[0;36mevaluate\u001b[1;34m(self, x, y, batch_size, verbose, sample_weight, steps, callbacks, max_queue_size, workers, use_multiprocessing, return_dict, **kwargs)\u001b[0m\n\u001b[0;32m   1499\u001b[0m             \u001b[1;32mwith\u001b[0m \u001b[0mtf\u001b[0m\u001b[1;33m.\u001b[0m\u001b[0mprofiler\u001b[0m\u001b[1;33m.\u001b[0m\u001b[0mexperimental\u001b[0m\u001b[1;33m.\u001b[0m\u001b[0mTrace\u001b[0m\u001b[1;33m(\u001b[0m\u001b[1;34m'test'\u001b[0m\u001b[1;33m,\u001b[0m \u001b[0mstep_num\u001b[0m\u001b[1;33m=\u001b[0m\u001b[0mstep\u001b[0m\u001b[1;33m,\u001b[0m \u001b[0m_r\u001b[0m\u001b[1;33m=\u001b[0m\u001b[1;36m1\u001b[0m\u001b[1;33m)\u001b[0m\u001b[1;33m:\u001b[0m\u001b[1;33m\u001b[0m\u001b[1;33m\u001b[0m\u001b[0m\n\u001b[0;32m   1500\u001b[0m               \u001b[0mcallbacks\u001b[0m\u001b[1;33m.\u001b[0m\u001b[0mon_test_batch_begin\u001b[0m\u001b[1;33m(\u001b[0m\u001b[0mstep\u001b[0m\u001b[1;33m)\u001b[0m\u001b[1;33m\u001b[0m\u001b[1;33m\u001b[0m\u001b[0m\n\u001b[1;32m-> 1501\u001b[1;33m               \u001b[0mtmp_logs\u001b[0m \u001b[1;33m=\u001b[0m \u001b[0mself\u001b[0m\u001b[1;33m.\u001b[0m\u001b[0mtest_function\u001b[0m\u001b[1;33m(\u001b[0m\u001b[0miterator\u001b[0m\u001b[1;33m)\u001b[0m\u001b[1;33m\u001b[0m\u001b[1;33m\u001b[0m\u001b[0m\n\u001b[0m\u001b[0;32m   1502\u001b[0m               \u001b[1;32mif\u001b[0m \u001b[0mdata_handler\u001b[0m\u001b[1;33m.\u001b[0m\u001b[0mshould_sync\u001b[0m\u001b[1;33m:\u001b[0m\u001b[1;33m\u001b[0m\u001b[1;33m\u001b[0m\u001b[0m\n\u001b[0;32m   1503\u001b[0m                 \u001b[0mcontext\u001b[0m\u001b[1;33m.\u001b[0m\u001b[0masync_wait\u001b[0m\u001b[1;33m(\u001b[0m\u001b[1;33m)\u001b[0m\u001b[1;33m\u001b[0m\u001b[1;33m\u001b[0m\u001b[0m\n",
      "\u001b[1;32m~\\anaconda3\\lib\\site-packages\\tensorflow\\python\\eager\\def_function.py\u001b[0m in \u001b[0;36m__call__\u001b[1;34m(self, *args, **kwds)\u001b[0m\n\u001b[0;32m    883\u001b[0m \u001b[1;33m\u001b[0m\u001b[0m\n\u001b[0;32m    884\u001b[0m       \u001b[1;32mwith\u001b[0m \u001b[0mOptionalXlaContext\u001b[0m\u001b[1;33m(\u001b[0m\u001b[0mself\u001b[0m\u001b[1;33m.\u001b[0m\u001b[0m_jit_compile\u001b[0m\u001b[1;33m)\u001b[0m\u001b[1;33m:\u001b[0m\u001b[1;33m\u001b[0m\u001b[1;33m\u001b[0m\u001b[0m\n\u001b[1;32m--> 885\u001b[1;33m         \u001b[0mresult\u001b[0m \u001b[1;33m=\u001b[0m \u001b[0mself\u001b[0m\u001b[1;33m.\u001b[0m\u001b[0m_call\u001b[0m\u001b[1;33m(\u001b[0m\u001b[1;33m*\u001b[0m\u001b[0margs\u001b[0m\u001b[1;33m,\u001b[0m \u001b[1;33m**\u001b[0m\u001b[0mkwds\u001b[0m\u001b[1;33m)\u001b[0m\u001b[1;33m\u001b[0m\u001b[1;33m\u001b[0m\u001b[0m\n\u001b[0m\u001b[0;32m    886\u001b[0m \u001b[1;33m\u001b[0m\u001b[0m\n\u001b[0;32m    887\u001b[0m       \u001b[0mnew_tracing_count\u001b[0m \u001b[1;33m=\u001b[0m \u001b[0mself\u001b[0m\u001b[1;33m.\u001b[0m\u001b[0mexperimental_get_tracing_count\u001b[0m\u001b[1;33m(\u001b[0m\u001b[1;33m)\u001b[0m\u001b[1;33m\u001b[0m\u001b[1;33m\u001b[0m\u001b[0m\n",
      "\u001b[1;32m~\\anaconda3\\lib\\site-packages\\tensorflow\\python\\eager\\def_function.py\u001b[0m in \u001b[0;36m_call\u001b[1;34m(self, *args, **kwds)\u001b[0m\n\u001b[0;32m    922\u001b[0m       \u001b[1;31m# In this case we have not created variables on the first call. So we can\u001b[0m\u001b[1;33m\u001b[0m\u001b[1;33m\u001b[0m\u001b[1;33m\u001b[0m\u001b[0m\n\u001b[0;32m    923\u001b[0m       \u001b[1;31m# run the first trace but we should fail if variables are created.\u001b[0m\u001b[1;33m\u001b[0m\u001b[1;33m\u001b[0m\u001b[1;33m\u001b[0m\u001b[0m\n\u001b[1;32m--> 924\u001b[1;33m       \u001b[0mresults\u001b[0m \u001b[1;33m=\u001b[0m \u001b[0mself\u001b[0m\u001b[1;33m.\u001b[0m\u001b[0m_stateful_fn\u001b[0m\u001b[1;33m(\u001b[0m\u001b[1;33m*\u001b[0m\u001b[0margs\u001b[0m\u001b[1;33m,\u001b[0m \u001b[1;33m**\u001b[0m\u001b[0mkwds\u001b[0m\u001b[1;33m)\u001b[0m\u001b[1;33m\u001b[0m\u001b[1;33m\u001b[0m\u001b[0m\n\u001b[0m\u001b[0;32m    925\u001b[0m       \u001b[1;32mif\u001b[0m \u001b[0mself\u001b[0m\u001b[1;33m.\u001b[0m\u001b[0m_created_variables\u001b[0m \u001b[1;32mand\u001b[0m \u001b[1;32mnot\u001b[0m \u001b[0mALLOW_DYNAMIC_VARIABLE_CREATION\u001b[0m\u001b[1;33m:\u001b[0m\u001b[1;33m\u001b[0m\u001b[1;33m\u001b[0m\u001b[0m\n\u001b[0;32m    926\u001b[0m         raise ValueError(\"Creating variables on a non-first call to a function\"\n",
      "\u001b[1;32m~\\anaconda3\\lib\\site-packages\\tensorflow\\python\\eager\\function.py\u001b[0m in \u001b[0;36m__call__\u001b[1;34m(self, *args, **kwargs)\u001b[0m\n\u001b[0;32m   3036\u001b[0m     \u001b[1;32mwith\u001b[0m \u001b[0mself\u001b[0m\u001b[1;33m.\u001b[0m\u001b[0m_lock\u001b[0m\u001b[1;33m:\u001b[0m\u001b[1;33m\u001b[0m\u001b[1;33m\u001b[0m\u001b[0m\n\u001b[0;32m   3037\u001b[0m       (graph_function,\n\u001b[1;32m-> 3038\u001b[1;33m        filtered_flat_args) = self._maybe_define_function(args, kwargs)\n\u001b[0m\u001b[0;32m   3039\u001b[0m     return graph_function._call_flat(\n\u001b[0;32m   3040\u001b[0m         filtered_flat_args, captured_inputs=graph_function.captured_inputs)  # pylint: disable=protected-access\n",
      "\u001b[1;32m~\\anaconda3\\lib\\site-packages\\tensorflow\\python\\eager\\function.py\u001b[0m in \u001b[0;36m_maybe_define_function\u001b[1;34m(self, args, kwargs)\u001b[0m\n\u001b[0;32m   3457\u001b[0m               \u001b[0mself\u001b[0m\u001b[1;33m.\u001b[0m\u001b[0minput_signature\u001b[0m \u001b[1;32mis\u001b[0m \u001b[1;32mNone\u001b[0m \u001b[1;32mand\u001b[0m\u001b[1;33m\u001b[0m\u001b[1;33m\u001b[0m\u001b[0m\n\u001b[0;32m   3458\u001b[0m               call_context_key in self._function_cache.missed):\n\u001b[1;32m-> 3459\u001b[1;33m             return self._define_function_with_shape_relaxation(\n\u001b[0m\u001b[0;32m   3460\u001b[0m                 args, kwargs, flat_args, filtered_flat_args, cache_key_context)\n\u001b[0;32m   3461\u001b[0m \u001b[1;33m\u001b[0m\u001b[0m\n",
      "\u001b[1;32m~\\anaconda3\\lib\\site-packages\\tensorflow\\python\\eager\\function.py\u001b[0m in \u001b[0;36m_define_function_with_shape_relaxation\u001b[1;34m(self, args, kwargs, flat_args, filtered_flat_args, cache_key_context)\u001b[0m\n\u001b[0;32m   3379\u001b[0m           expand_composites=True)\n\u001b[0;32m   3380\u001b[0m \u001b[1;33m\u001b[0m\u001b[0m\n\u001b[1;32m-> 3381\u001b[1;33m     graph_function = self._create_graph_function(\n\u001b[0m\u001b[0;32m   3382\u001b[0m         args, kwargs, override_flat_arg_shapes=relaxed_arg_shapes)\n\u001b[0;32m   3383\u001b[0m     \u001b[0mself\u001b[0m\u001b[1;33m.\u001b[0m\u001b[0m_function_cache\u001b[0m\u001b[1;33m.\u001b[0m\u001b[0marg_relaxed\u001b[0m\u001b[1;33m[\u001b[0m\u001b[0mrank_only_cache_key\u001b[0m\u001b[1;33m]\u001b[0m \u001b[1;33m=\u001b[0m \u001b[0mgraph_function\u001b[0m\u001b[1;33m\u001b[0m\u001b[1;33m\u001b[0m\u001b[0m\n",
      "\u001b[1;32m~\\anaconda3\\lib\\site-packages\\tensorflow\\python\\eager\\function.py\u001b[0m in \u001b[0;36m_create_graph_function\u001b[1;34m(self, args, kwargs, override_flat_arg_shapes)\u001b[0m\n\u001b[0;32m   3296\u001b[0m     \u001b[0marg_names\u001b[0m \u001b[1;33m=\u001b[0m \u001b[0mbase_arg_names\u001b[0m \u001b[1;33m+\u001b[0m \u001b[0mmissing_arg_names\u001b[0m\u001b[1;33m\u001b[0m\u001b[1;33m\u001b[0m\u001b[0m\n\u001b[0;32m   3297\u001b[0m     graph_function = ConcreteFunction(\n\u001b[1;32m-> 3298\u001b[1;33m         func_graph_module.func_graph_from_py_func(\n\u001b[0m\u001b[0;32m   3299\u001b[0m             \u001b[0mself\u001b[0m\u001b[1;33m.\u001b[0m\u001b[0m_name\u001b[0m\u001b[1;33m,\u001b[0m\u001b[1;33m\u001b[0m\u001b[1;33m\u001b[0m\u001b[0m\n\u001b[0;32m   3300\u001b[0m             \u001b[0mself\u001b[0m\u001b[1;33m.\u001b[0m\u001b[0m_python_function\u001b[0m\u001b[1;33m,\u001b[0m\u001b[1;33m\u001b[0m\u001b[1;33m\u001b[0m\u001b[0m\n",
      "\u001b[1;32m~\\anaconda3\\lib\\site-packages\\tensorflow\\python\\framework\\func_graph.py\u001b[0m in \u001b[0;36mfunc_graph_from_py_func\u001b[1;34m(name, python_func, args, kwargs, signature, func_graph, autograph, autograph_options, add_control_dependencies, arg_names, op_return_value, collections, capture_by_value, override_flat_arg_shapes, acd_record_initial_resource_uses)\u001b[0m\n\u001b[0;32m   1005\u001b[0m         \u001b[0m_\u001b[0m\u001b[1;33m,\u001b[0m \u001b[0moriginal_func\u001b[0m \u001b[1;33m=\u001b[0m \u001b[0mtf_decorator\u001b[0m\u001b[1;33m.\u001b[0m\u001b[0munwrap\u001b[0m\u001b[1;33m(\u001b[0m\u001b[0mpython_func\u001b[0m\u001b[1;33m)\u001b[0m\u001b[1;33m\u001b[0m\u001b[1;33m\u001b[0m\u001b[0m\n\u001b[0;32m   1006\u001b[0m \u001b[1;33m\u001b[0m\u001b[0m\n\u001b[1;32m-> 1007\u001b[1;33m       \u001b[0mfunc_outputs\u001b[0m \u001b[1;33m=\u001b[0m \u001b[0mpython_func\u001b[0m\u001b[1;33m(\u001b[0m\u001b[1;33m*\u001b[0m\u001b[0mfunc_args\u001b[0m\u001b[1;33m,\u001b[0m \u001b[1;33m**\u001b[0m\u001b[0mfunc_kwargs\u001b[0m\u001b[1;33m)\u001b[0m\u001b[1;33m\u001b[0m\u001b[1;33m\u001b[0m\u001b[0m\n\u001b[0m\u001b[0;32m   1008\u001b[0m \u001b[1;33m\u001b[0m\u001b[0m\n\u001b[0;32m   1009\u001b[0m       \u001b[1;31m# invariant: `func_outputs` contains only Tensors, CompositeTensors,\u001b[0m\u001b[1;33m\u001b[0m\u001b[1;33m\u001b[0m\u001b[1;33m\u001b[0m\u001b[0m\n",
      "\u001b[1;32m~\\anaconda3\\lib\\site-packages\\tensorflow\\python\\eager\\def_function.py\u001b[0m in \u001b[0;36mwrapped_fn\u001b[1;34m(*args, **kwds)\u001b[0m\n\u001b[0;32m    666\u001b[0m         \u001b[1;31m# the function a weak reference to itself to avoid a reference cycle.\u001b[0m\u001b[1;33m\u001b[0m\u001b[1;33m\u001b[0m\u001b[1;33m\u001b[0m\u001b[0m\n\u001b[0;32m    667\u001b[0m         \u001b[1;32mwith\u001b[0m \u001b[0mOptionalXlaContext\u001b[0m\u001b[1;33m(\u001b[0m\u001b[0mcompile_with_xla\u001b[0m\u001b[1;33m)\u001b[0m\u001b[1;33m:\u001b[0m\u001b[1;33m\u001b[0m\u001b[1;33m\u001b[0m\u001b[0m\n\u001b[1;32m--> 668\u001b[1;33m           \u001b[0mout\u001b[0m \u001b[1;33m=\u001b[0m \u001b[0mweak_wrapped_fn\u001b[0m\u001b[1;33m(\u001b[0m\u001b[1;33m)\u001b[0m\u001b[1;33m.\u001b[0m\u001b[0m__wrapped__\u001b[0m\u001b[1;33m(\u001b[0m\u001b[1;33m*\u001b[0m\u001b[0margs\u001b[0m\u001b[1;33m,\u001b[0m \u001b[1;33m**\u001b[0m\u001b[0mkwds\u001b[0m\u001b[1;33m)\u001b[0m\u001b[1;33m\u001b[0m\u001b[1;33m\u001b[0m\u001b[0m\n\u001b[0m\u001b[0;32m    669\u001b[0m         \u001b[1;32mreturn\u001b[0m \u001b[0mout\u001b[0m\u001b[1;33m\u001b[0m\u001b[1;33m\u001b[0m\u001b[0m\n\u001b[0;32m    670\u001b[0m \u001b[1;33m\u001b[0m\u001b[0m\n",
      "\u001b[1;32m~\\anaconda3\\lib\\site-packages\\tensorflow\\python\\framework\\func_graph.py\u001b[0m in \u001b[0;36mwrapper\u001b[1;34m(*args, **kwargs)\u001b[0m\n\u001b[0;32m    992\u001b[0m           \u001b[1;32mexcept\u001b[0m \u001b[0mException\u001b[0m \u001b[1;32mas\u001b[0m \u001b[0me\u001b[0m\u001b[1;33m:\u001b[0m  \u001b[1;31m# pylint:disable=broad-except\u001b[0m\u001b[1;33m\u001b[0m\u001b[1;33m\u001b[0m\u001b[0m\n\u001b[0;32m    993\u001b[0m             \u001b[1;32mif\u001b[0m \u001b[0mhasattr\u001b[0m\u001b[1;33m(\u001b[0m\u001b[0me\u001b[0m\u001b[1;33m,\u001b[0m \u001b[1;34m\"ag_error_metadata\"\u001b[0m\u001b[1;33m)\u001b[0m\u001b[1;33m:\u001b[0m\u001b[1;33m\u001b[0m\u001b[1;33m\u001b[0m\u001b[0m\n\u001b[1;32m--> 994\u001b[1;33m               \u001b[1;32mraise\u001b[0m \u001b[0me\u001b[0m\u001b[1;33m.\u001b[0m\u001b[0mag_error_metadata\u001b[0m\u001b[1;33m.\u001b[0m\u001b[0mto_exception\u001b[0m\u001b[1;33m(\u001b[0m\u001b[0me\u001b[0m\u001b[1;33m)\u001b[0m\u001b[1;33m\u001b[0m\u001b[1;33m\u001b[0m\u001b[0m\n\u001b[0m\u001b[0;32m    995\u001b[0m             \u001b[1;32melse\u001b[0m\u001b[1;33m:\u001b[0m\u001b[1;33m\u001b[0m\u001b[1;33m\u001b[0m\u001b[0m\n\u001b[0;32m    996\u001b[0m               \u001b[1;32mraise\u001b[0m\u001b[1;33m\u001b[0m\u001b[1;33m\u001b[0m\u001b[0m\n",
      "\u001b[1;31mValueError\u001b[0m: in user code:\n\n    C:\\Users\\lg\\anaconda3\\lib\\site-packages\\keras\\engine\\training.py:1330 test_function  *\n        return step_function(self, iterator)\n    C:\\Users\\lg\\anaconda3\\lib\\site-packages\\keras\\engine\\training.py:1320 step_function  **\n        outputs = model.distribute_strategy.run(run_step, args=(data,))\n    C:\\Users\\lg\\anaconda3\\lib\\site-packages\\tensorflow\\python\\distribute\\distribute_lib.py:1286 run\n        return self._extended.call_for_each_replica(fn, args=args, kwargs=kwargs)\n    C:\\Users\\lg\\anaconda3\\lib\\site-packages\\tensorflow\\python\\distribute\\distribute_lib.py:2849 call_for_each_replica\n        return self._call_for_each_replica(fn, args, kwargs)\n    C:\\Users\\lg\\anaconda3\\lib\\site-packages\\tensorflow\\python\\distribute\\distribute_lib.py:3632 _call_for_each_replica\n        return fn(*args, **kwargs)\n    C:\\Users\\lg\\anaconda3\\lib\\site-packages\\keras\\engine\\training.py:1313 run_step  **\n        outputs = model.test_step(data)\n    C:\\Users\\lg\\anaconda3\\lib\\site-packages\\keras\\engine\\training.py:1269 test_step\n        self.compiled_loss(\n    C:\\Users\\lg\\anaconda3\\lib\\site-packages\\keras\\engine\\compile_utils.py:201 __call__\n        loss_value = loss_obj(y_t, y_p, sample_weight=sw)\n    C:\\Users\\lg\\anaconda3\\lib\\site-packages\\keras\\losses.py:141 __call__\n        losses = call_fn(y_true, y_pred)\n    C:\\Users\\lg\\anaconda3\\lib\\site-packages\\keras\\losses.py:245 call  **\n        return ag_fn(y_true, y_pred, **self._fn_kwargs)\n    C:\\Users\\lg\\anaconda3\\lib\\site-packages\\tensorflow\\python\\util\\dispatch.py:206 wrapper\n        return target(*args, **kwargs)\n    C:\\Users\\lg\\anaconda3\\lib\\site-packages\\keras\\losses.py:1665 categorical_crossentropy\n        return backend.categorical_crossentropy(\n    C:\\Users\\lg\\anaconda3\\lib\\site-packages\\tensorflow\\python\\util\\dispatch.py:206 wrapper\n        return target(*args, **kwargs)\n    C:\\Users\\lg\\anaconda3\\lib\\site-packages\\keras\\backend.py:4839 categorical_crossentropy\n        target.shape.assert_is_compatible_with(output.shape)\n    C:\\Users\\lg\\anaconda3\\lib\\site-packages\\tensorflow\\python\\framework\\tensor_shape.py:1161 assert_is_compatible_with\n        raise ValueError(\"Shapes %s and %s are incompatible\" % (self, other))\n\n    ValueError: Shapes (None, 1) and (None, 7) are incompatible\n"
     ]
    }
   ],
   "source": [
    "results = model.evaluate(angle, label, batch_size=128)\n",
    "print('test loss, test acc:', results)"
   ]
  },
  {
   "cell_type": "code",
   "execution_count": 16,
   "metadata": {},
   "outputs": [],
   "source": [
    "model.save('./Desktop/hand.h5')"
   ]
  },
  {
   "cell_type": "code",
   "execution_count": null,
   "metadata": {},
   "outputs": [],
   "source": []
  }
 ],
 "metadata": {
  "kernelspec": {
   "display_name": "Python 3",
   "language": "python",
   "name": "python3"
  },
  "language_info": {
   "codemirror_mode": {
    "name": "ipython",
    "version": 3
   },
   "file_extension": ".py",
   "mimetype": "text/x-python",
   "name": "python",
   "nbconvert_exporter": "python",
   "pygments_lexer": "ipython3",
   "version": "3.8.5"
  }
 },
 "nbformat": 4,
 "nbformat_minor": 4
}
